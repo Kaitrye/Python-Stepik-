{
 "cells": [
  {
   "cell_type": "markdown",
   "id": "2d8235e2",
   "metadata": {},
   "source": [
    "# Списки и словари"
   ]
  },
  {
   "cell_type": "markdown",
   "id": "68639099",
   "metadata": {},
   "source": [
    "### Списки"
   ]
  },
  {
   "cell_type": "markdown",
   "id": "01236caa",
   "metadata": {},
   "source": [
    "Зачастую приходится работать с достаточно большими объемами данных. Однако создавать для таких случаев 1 000, 1 000 000, а то и больше переменных - так себе вариант. Поэтому были созданы структуры данных, в которых можно хранить пронумерованные (либо названные) элементы. "
   ]
  },
  {
   "cell_type": "markdown",
   "id": "ef81d9fc",
   "metadata": {},
   "source": [
    "Первая такая структура данных - список. Создать его можно несколькими способами:"
   ]
  },
  {
   "cell_type": "code",
   "execution_count": 1,
   "id": "f90e61c4",
   "metadata": {},
   "outputs": [
    {
     "name": "stdout",
     "output_type": "stream",
     "text": [
      "[]\n"
     ]
    }
   ],
   "source": [
    "new_list1 = list()\n",
    "print(new_list1)"
   ]
  },
  {
   "cell_type": "code",
   "execution_count": 2,
   "id": "d3028666",
   "metadata": {},
   "outputs": [
    {
     "name": "stdout",
     "output_type": "stream",
     "text": [
      "[]\n"
     ]
    }
   ],
   "source": [
    "new_list2 = []\n",
    "print(new_list2)"
   ]
  },
  {
   "cell_type": "markdown",
   "id": "e538f374",
   "metadata": {},
   "source": [
    "В списках можно хранить переменные любого типа."
   ]
  },
  {
   "cell_type": "code",
   "execution_count": 3,
   "id": "906ae3e8",
   "metadata": {
    "scrolled": true
   },
   "outputs": [
    {
     "name": "stdout",
     "output_type": "stream",
     "text": [
      "[0, 1, 2, 3, 4, 5, 6, 7, 8, 9]\n"
     ]
    }
   ],
   "source": [
    "numbers = [0, 1, 2, 3, 4, 5, 6, 7, 8, 9]\n",
    "print(numbers)"
   ]
  },
  {
   "cell_type": "code",
   "execution_count": 4,
   "id": "3f8bc53a",
   "metadata": {},
   "outputs": [
    {
     "name": "stdout",
     "output_type": "stream",
     "text": [
      "['keys', 'bag', 'telephone', 'jacket']\n"
     ]
    }
   ],
   "source": [
    "things = ['keys', 'bag', 'telephone', 'jacket']\n",
    "print(things)"
   ]
  },
  {
   "cell_type": "markdown",
   "id": "c9490c06",
   "metadata": {},
   "source": [
    "Однако вводить каждый раз скобки и, возможно, переключаться между языками не очень хочется, поэтому для удобства можно задавать список и иначе:"
   ]
  },
  {
   "cell_type": "code",
   "execution_count": 3,
   "id": "8fc863a8",
   "metadata": {},
   "outputs": [
    {
     "name": "stdout",
     "output_type": "stream",
     "text": [
      "['cat', 'pig', 'parrot', 'horse', 'fish']\n"
     ]
    }
   ],
   "source": [
    "animals = 'cat, pig, parrot, horse, fish'.split(', ')\n",
    "print(animals)"
   ]
  },
  {
   "cell_type": "markdown",
   "id": "038eb48f",
   "metadata": {},
   "source": [
    "Списки - это прежде всего массивы данных, поэтому так же, как и в string здесь присутствует индексация."
   ]
  },
  {
   "cell_type": "code",
   "execution_count": 10,
   "id": "716aaf82",
   "metadata": {},
   "outputs": [
    {
     "name": "stdout",
     "output_type": "stream",
     "text": [
      "cat fish horse\n",
      "['parrot', 'horse']\n",
      "['cat', 'pig', 'parrot', 'horse', 'fish']\n",
      "['fish', 'horse', 'parrot', 'pig', 'cat']\n",
      "['cat', 'parrot', 'fish']\n"
     ]
    }
   ],
   "source": [
    "print(animals[0], animals[-1], animals[3])\n",
    "print(animals[2:4])\n",
    "print(animals[:])\n",
    "print(animals[::-1])\n",
    "print(animals[::2])"
   ]
  },
  {
   "cell_type": "markdown",
   "id": "bb15aea3",
   "metadata": {},
   "source": [
    "Теперь научимся добавлять в списки новые элементы. Для этого существует функция append():"
   ]
  },
  {
   "cell_type": "code",
   "execution_count": 7,
   "id": "1dcfa130",
   "metadata": {},
   "outputs": [
    {
     "name": "stdout",
     "output_type": "stream",
     "text": [
      "['cat', 'pig', 'parrot', 'horse', 'fish', 'dog']\n"
     ]
    }
   ],
   "source": [
    "animals.append('dog')\n",
    "print(animals)"
   ]
  },
  {
   "cell_type": "markdown",
   "id": "4781385a",
   "metadata": {},
   "source": [
    "Часто данные нужны в определенном порядке, специально для этого есть функция sort(), которая сортирует список."
   ]
  },
  {
   "cell_type": "code",
   "execution_count": 8,
   "id": "193d7842",
   "metadata": {},
   "outputs": [
    {
     "name": "stdout",
     "output_type": "stream",
     "text": [
      "['cat', 'dog', 'fish', 'horse', 'parrot', 'pig']\n"
     ]
    }
   ],
   "source": [
    "animals.sort()\n",
    "print(animals)"
   ]
  },
  {
   "cell_type": "markdown",
   "id": "04c7feda",
   "metadata": {},
   "source": [
    "Эта функция включает в себя также и сортировку по убыванию:"
   ]
  },
  {
   "cell_type": "code",
   "execution_count": 9,
   "id": "be033087",
   "metadata": {},
   "outputs": [
    {
     "name": "stdout",
     "output_type": "stream",
     "text": [
      "['pig', 'parrot', 'horse', 'fish', 'dog', 'cat']\n"
     ]
    }
   ],
   "source": [
    "animals.sort(reverse = True)\n",
    "print(animals)"
   ]
  },
  {
   "cell_type": "markdown",
   "id": "f5d14a03",
   "metadata": {},
   "source": [
    "Чтобы найти минимальное и максимальное значения в списках, существуют функции min() и max(), которые работают как с числами, так и со строками:"
   ]
  },
  {
   "cell_type": "code",
   "execution_count": 10,
   "id": "5f693358",
   "metadata": {},
   "outputs": [
    {
     "name": "stdout",
     "output_type": "stream",
     "text": [
      "cat\n",
      "pig\n",
      "0\n",
      "9\n"
     ]
    }
   ],
   "source": [
    "print(min(animals))\n",
    "print(max(animals))\n",
    "\n",
    "print(min(numbers))\n",
    "print(max(numbers))"
   ]
  },
  {
   "cell_type": "markdown",
   "id": "06b9ef00",
   "metadata": {},
   "source": [
    "Также есть специальная функция count(), которая работает так же, как и со string:"
   ]
  },
  {
   "cell_type": "code",
   "execution_count": 11,
   "id": "47e8a997",
   "metadata": {},
   "outputs": [
    {
     "name": "stdout",
     "output_type": "stream",
     "text": [
      "5 5 2\n"
     ]
    }
   ],
   "source": [
    "numbers2 = '1,2,6,5,7,2,3,4,5,2,1,2,1,1,1,2,3,4,7,5'.split(',')\n",
    "print(numbers2.count('1'), numbers2.count('2'), numbers2.count('3'))"
   ]
  },
  {
   "cell_type": "markdown",
   "id": "2b620c6e",
   "metadata": {},
   "source": [
    "Особенность Python - это возможность писать мощный код всего в несколько строчек. Например, создадим список из подряд идущих чисел:"
   ]
  },
  {
   "cell_type": "code",
   "execution_count": 44,
   "id": "905b53a6",
   "metadata": {},
   "outputs": [
    {
     "name": "stdout",
     "output_type": "stream",
     "text": [
      "[0, 1, 2, 3, 4, 5, 6, 7, 8, 9, 10, 11, 12, 13, 14, 15, 16, 17, 18, 19, 20, 21, 22, 23, 24, 25, 26, 27, 28, 29, 30, 31, 32, 33, 34, 35, 36, 37, 38, 39, 40, 41, 42, 43, 44, 45, 46, 47, 48, 49, 50, 51, 52, 53, 54, 55, 56, 57, 58, 59, 60, 61, 62, 63, 64, 65, 66, 67, 68, 69, 70, 71, 72, 73, 74, 75, 76, 77, 78, 79, 80, 81, 82, 83, 84, 85, 86, 87, 88, 89, 90, 91, 92, 93, 94, 95, 96, 97, 98, 99, 100]\n"
     ]
    }
   ],
   "source": [
    "numbers = [i for i in range(101)]\n",
    "print(numbers)"
   ]
  },
  {
   "cell_type": "markdown",
   "id": "0def18f1",
   "metadata": {},
   "source": [
    "Теперь исключим все числа, которые делятся на 5:"
   ]
  },
  {
   "cell_type": "code",
   "execution_count": 45,
   "id": "96cf3bf6",
   "metadata": {},
   "outputs": [
    {
     "name": "stdout",
     "output_type": "stream",
     "text": [
      "[1, 2, 3, 4, 6, 7, 8, 9, 11, 12, 13, 14, 16, 17, 18, 19, 21, 22, 23, 24, 26, 27, 28, 29, 31, 32, 33, 34, 36, 37, 38, 39, 41, 42, 43, 44, 46, 47, 48, 49, 51, 52, 53, 54, 56, 57, 58, 59, 61, 62, 63, 64, 66, 67, 68, 69, 71, 72, 73, 74, 76, 77, 78, 79, 81, 82, 83, 84, 86, 87, 88, 89, 91, 92, 93, 94, 96, 97, 98, 99]\n"
     ]
    }
   ],
   "source": [
    "numbers = [i for i in range(101) if i % 5 != 0]\n",
    "print(numbers)"
   ]
  },
  {
   "cell_type": "markdown",
   "id": "74390c52",
   "metadata": {},
   "source": [
    "### Словари"
   ]
  },
  {
   "cell_type": "markdown",
   "id": "4a5b4e8c",
   "metadata": {},
   "source": [
    "Мы познакомились со списками, однако они не всегда удобны для использования. Часто нам нужно найти какую-то информацию об определенном объекте, не зная при этом его индекса, но зная, например, фамилию. В таком случае перебирать циклом по списку довольно неудобно. Поэтому в Python есть специальная структура - словарь:"
   ]
  },
  {
   "cell_type": "code",
   "execution_count": null,
   "id": "15c5511a",
   "metadata": {},
   "outputs": [],
   "source": [
    "fruit_prices = {'apple': '120', 'orange': '30', 'avocado': '350', 'lemon': '50'}\n",
    "print(fruit_prices['apple'])"
   ]
  },
  {
   "cell_type": "markdown",
   "id": "42d76f49",
   "metadata": {},
   "source": [
    "Так же, как и при работе со string мы можем проверять, есть ли определённый ключ в словаре."
   ]
  },
  {
   "cell_type": "code",
   "execution_count": 39,
   "id": "e0747088",
   "metadata": {},
   "outputs": [
    {
     "name": "stdout",
     "output_type": "stream",
     "text": [
      "Price of apple: 120 rubles\n",
      "Price of lemon: 50 rubles\n",
      "Price of orange: 30 rubles\n",
      "I don`t know price of banana\n",
      "I don`t know price of mango\n",
      "Price of avocado: 350 rubles\n"
     ]
    }
   ],
   "source": [
    "fruits = 'apple, lemon, orange, banana, mango, avocado'.split(', ')\n",
    "for fruit in fruits:\n",
    "    if fruit in fruit_prices:\n",
    "        print(\"Price of\", fruit + ':', fruit_prices[fruit], 'rubles')\n",
    "    else:\n",
    "        print('I don`t know price of', fruit)"
   ]
  },
  {
   "cell_type": "markdown",
   "id": "7b580004",
   "metadata": {},
   "source": [
    "Другой вариант - это проверить и, если что, добавить новый элемент. Для этого есть специальная функция setdefault(), которая проверяет указанный ключ и возвращает его значение, если же он отсутствует, то будет создан новый элемент с данным ключом и значением \"по умолчанию\"(если оно есть) и функция вернет значение уже нового элемента:"
   ]
  },
  {
   "cell_type": "code",
   "execution_count": 40,
   "id": "4fa33877",
   "metadata": {},
   "outputs": [
    {
     "name": "stdout",
     "output_type": "stream",
     "text": [
      "120\n",
      "40\n"
     ]
    }
   ],
   "source": [
    "some_fruit = fruit_prices.setdefault('apple', '50')\n",
    "print(some_fruit)\n",
    "\n",
    "some_fruit = fruit_prices.setdefault('banana', '40')\n",
    "print(some_fruit)\n"
   ]
  },
  {
   "cell_type": "markdown",
   "id": "10963c77",
   "metadata": {},
   "source": [
    "Чтобы узнать, данные каких объектов у нас имеются, можно просто вывести список всех ключей с помощью функции keys():"
   ]
  },
  {
   "cell_type": "code",
   "execution_count": 41,
   "id": "259a666f",
   "metadata": {
    "scrolled": true
   },
   "outputs": [
    {
     "name": "stdout",
     "output_type": "stream",
     "text": [
      "dict_keys(['apple', 'orange', 'avocado', 'lemon', 'banana'])\n"
     ]
    }
   ],
   "source": [
    "print(fruit_prices.keys())"
   ]
  },
  {
   "cell_type": "markdown",
   "id": "69b34b45",
   "metadata": {},
   "source": [
    "Таким способом мы можем и найти элементы с одинаковыми значениями."
   ]
  },
  {
   "cell_type": "code",
   "execution_count": null,
   "id": "183f654e",
   "metadata": {},
   "outputs": [],
   "source": [
    "fruit_prices.setdefault('mango', '50')\n",
    "fruit_prices.setdefault('pear', '50')\n",
    "\n",
    "for fruit in fruit_prices:\n",
    "    if fruit_prices[fruit] == '50':\n",
    "        print(fruit)"
   ]
  },
  {
   "cell_type": "markdown",
   "id": "ddb18d95",
   "metadata": {},
   "source": [
    "В таких случаях, когда мы работаем больше со значениями, чем с ключами, стоит использовать функцию values(), которая правда лишит нас возможности узнать ключ, но зато позволит более практично посчитать количество элементов с одинаковыми значениями:"
   ]
  },
  {
   "cell_type": "code",
   "execution_count": 43,
   "id": "2f3527a8",
   "metadata": {},
   "outputs": [
    {
     "name": "stdout",
     "output_type": "stream",
     "text": [
      "3\n"
     ]
    }
   ],
   "source": [
    "count = 0 \n",
    "for price in fruit_prices.values():\n",
    "    if price == '50':\n",
    "        count += 1\n",
    "print(count)"
   ]
  },
  {
   "cell_type": "markdown",
   "id": "2af0e962",
   "metadata": {},
   "source": [
    "### Практика"
   ]
  },
  {
   "cell_type": "markdown",
   "id": "8adce440",
   "metadata": {},
   "source": [
    "#### 1.\n",
    "Есть список номеров автомобилей, нужно написать программу, которая бы принимала на вход номер элемента и выводила бы номер автомобиля, если же номер элемента превосходит допустимый, то выводила бы \"Out of range\"."
   ]
  },
  {
   "cell_type": "code",
   "execution_count": 52,
   "id": "0c2fdd06",
   "metadata": {},
   "outputs": [
    {
     "name": "stdout",
     "output_type": "stream",
     "text": [
      "15\n",
      "Out of range\n"
     ]
    }
   ],
   "source": [
    "car_number = '6578,9834,0752,1117,9857,3421,8834,9391,5165,3289,7531,9060,8914'.split(',')\n",
    "i = int(input())\n",
    "\n",
    "if i < 13:\n",
    "    print(car_number[i])\n",
    "else:\n",
    "    print(\"Out of range\")"
   ]
  },
  {
   "cell_type": "markdown",
   "id": "49f89955",
   "metadata": {},
   "source": [
    "#### 2.\n",
    "Необходимо создать словарь, в котором бы отражалась следующая информация:\n",
    "\n",
    "- Полосатые кошки: 25 \n",
    "\n",
    "- Чёрные кошки: 16\n",
    "\n",
    "- Черепаховые кошки: 3\n",
    "\n",
    "- Белые кошки: 1\n",
    "\n",
    "- Рыжие кошки: 5\n",
    "\n",
    "- Дымчатые кошки: 15\n",
    "\n",
    "- Котята: 2\n",
    "\n",
    "При вводе названия группы кошек, программа должна выводить их количество.\n",
    "А если пользователь вводит что-то чего нет в словаре, то должна появляться надпись \"Таких кошек в приюте нет\"."
   ]
  },
  {
   "cell_type": "code",
   "execution_count": 53,
   "id": "c33159dc",
   "metadata": {},
   "outputs": [
    {
     "name": "stdout",
     "output_type": "stream",
     "text": [
      "Чёрные кошки\n",
      "16\n"
     ]
    }
   ],
   "source": [
    "cat_numbers = {'Полосатые кошки': 25, 'Чёрные кошки': 16,\n",
    "               'Черепаховые кошки': 3, 'Белые кошки': 1, 'Рыжие кошки': 5,\n",
    "               'Дымчатые кошки': 15, 'Котята': 2}\n",
    "name = input()\n",
    "if name in cat_numbers:\n",
    "    print(cat_numbers[name])\n",
    "else:\n",
    "    print(\"Таких кошек в приюте нет\")"
   ]
  },
  {
   "cell_type": "markdown",
   "id": "7620b5b0",
   "metadata": {},
   "source": [
    "#### 3.\n",
    "Есть некоторая база данных о путешественниках и их поездках. Нужно написать код, который принимает имя путешественника, а выдаёт страну, куда этот человек ездил. Если он не ездил никуда, то должна выводить \"None\". Если был много где, то - \"Several\"."
   ]
  },
  {
   "cell_type": "code",
   "execution_count": 56,
   "id": "b542917b",
   "metadata": {},
   "outputs": [],
   "source": [
    "person_dict = { \n",
    "    'person_id': [417283, 849734, 132223, 573943, 19475, 3294095],  \n",
    "    'person_name': ['Keanu Reeves', 'Jim Carrey', 'Johnny Depp', \n",
    "                    'Keira Knightley', 'Natalie Portman', 'Marion Cotillard']\n",
    "}\n",
    "travel_log = { \n",
    "    'travel_id': [101, 102, 105, 121, 145, 161, 178], \n",
    "    'person_id': [573943, 132223, 849734, 417283, 382043, 3294095, 417283], \n",
    "    'country': ['Russia', 'Australia', 'Turkey', 'Japan', 'China', 'USA', 'Mexico'],\n",
    "    'price': [5900, 15330, 10200, 12990, 9890, 13500, 7400], \n",
    "    'real_cost': [3500, 10280, 7600, 9850, 4340, 11200, 3300]\n",
    "}"
   ]
  },
  {
   "cell_type": "code",
   "execution_count": 60,
   "id": "a9f2a150",
   "metadata": {},
   "outputs": [
    {
     "name": "stdout",
     "output_type": "stream",
     "text": [
      "Keanu Reeves\n",
      "Several\n"
     ]
    }
   ],
   "source": [
    "id = person_dict['person_id'][person_dict['person_name'].index(input())]\n",
    "\n",
    "count = travel_log['person_id'].count(id)\n",
    "if count == 1:\n",
    "    print(travel_log['country'][travel_log['person_id'].index(id)])\n",
    "elif count == 0:\n",
    "    print('None')\n",
    "else:\n",
    "    print('Several')"
   ]
  },
  {
   "cell_type": "code",
   "execution_count": 13,
   "id": "a9c731e4",
   "metadata": {},
   "outputs": [
    {
     "name": "stdout",
     "output_type": "stream",
     "text": [
      "Keanu Reeves\n",
      "Several\n"
     ]
    }
   ],
   "source": [
    "print({\n",
    "    'Keanu Reeves': 'Several',\n",
    "    'Jim Carrey' : 'Turkey',\n",
    "    'Johnny Depp' : 'Australia',\n",
    "    'Keira Knightley' : 'Russia',\n",
    "    'Natalie Portman' : 'None',\n",
    "    'Marion Cotillard' : 'USA'\n",
    "}[input()])"
   ]
  },
  {
   "cell_type": "markdown",
   "id": "9fe7000d",
   "metadata": {},
   "source": [
    "#### 4.\n",
    "Нужно написать программу, которая по вводимому числу выводила бы день недели под этим номером. При вводе неправильного числа (меньше 1 или больше 7) программа должна выводить \"Ошибка\""
   ]
  },
  {
   "cell_type": "code",
   "execution_count": 27,
   "id": "bb1657d5",
   "metadata": {},
   "outputs": [
    {
     "name": "stdout",
     "output_type": "stream",
     "text": [
      "5\n",
      "пятница\n"
     ]
    }
   ],
   "source": [
    "print({1: 'понедельник', \n",
    "       2: 'вторник', \n",
    "       3: 'среда', \n",
    "       4: 'четверг', \n",
    "       5: 'пятница', \n",
    "       6: 'суббота', \n",
    "       7: 'воскресенье'}.get(int(input()), 'Ошибка'))"
   ]
  }
 ],
 "metadata": {
  "kernelspec": {
   "display_name": "Python 3",
   "language": "python",
   "name": "python3"
  },
  "language_info": {
   "codemirror_mode": {
    "name": "ipython",
    "version": 3
   },
   "file_extension": ".py",
   "mimetype": "text/x-python",
   "name": "python",
   "nbconvert_exporter": "python",
   "pygments_lexer": "ipython3",
   "version": "3.8.8"
  }
 },
 "nbformat": 4,
 "nbformat_minor": 5
}
