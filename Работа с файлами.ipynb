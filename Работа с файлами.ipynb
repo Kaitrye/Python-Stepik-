{
 "cells": [
  {
   "cell_type": "markdown",
   "metadata": {
    "id": "0csCZ79evezT"
   },
   "source": [
    "# Работа с файлами"
   ]
  },
  {
   "cell_type": "markdown",
   "metadata": {},
   "source": [
    "### Текстовые файлы"
   ]
  },
  {
   "cell_type": "markdown",
   "metadata": {
    "id": "QYwbi055sOnC"
   },
   "source": [
    "Зачастую, если наша программа взаимодействует с окружающим миром, это делается именно с помощью файлов."
   ]
  },
  {
   "cell_type": "markdown",
   "metadata": {
    "id": "JSiBoQkptw0k"
   },
   "source": [
    "Чтобы открыть файл, находящийся по некоторому пути, нужно воспользоваться функцией open()."
   ]
  },
  {
   "cell_type": "code",
   "execution_count": 20,
   "metadata": {
    "id": "rbOYxp2etrr0"
   },
   "outputs": [],
   "source": [
    "file = open(\"hello.txt\", \"w\") #\"hello.txt\" - это путь файла"
   ]
  },
  {
   "cell_type": "markdown",
   "metadata": {},
   "source": [
    "Второй аргумент означает то, что мы хотим делать с файлом. В данном случае мы использовали символ \"w\" - запись в файл (write). \"r\" -  чтение файла (read). Для записи файл не обязательно должен существовать (если что будет создан новый пустой файл с данным путем), для чтения же файл должен существовать, а иначе программа выдаст ошибку."
   ]
  },
  {
   "cell_type": "markdown",
   "metadata": {
    "id": "Qrqk_-_0u0NX"
   },
   "source": [
    "Чтобы записать что-то в открытый файл, есть функция write(). "
   ]
  },
  {
   "cell_type": "code",
   "execution_count": 21,
   "metadata": {
    "colab": {
     "base_uri": "https://localhost:8080/"
    },
    "id": "crXJ2O_Fr-S1",
    "outputId": "3fae637d-ea4b-4c0d-8412-a5bd3c3ed666"
   },
   "outputs": [
    {
     "data": {
      "text/plain": [
       "7"
      ]
     },
     "execution_count": 21,
     "metadata": {},
     "output_type": "execute_result"
    }
   ],
   "source": [
    "file.write(\"Hello, \")\n",
    "file.write(\"world!\\n\")"
   ]
  },
  {
   "cell_type": "markdown",
   "metadata": {
    "id": "vMvWDYyyvThT"
   },
   "source": [
    "После того, как мы закончили работу с файлом, его необходимо закрыть с помощью функции close()."
   ]
  },
  {
   "cell_type": "code",
   "execution_count": 22,
   "metadata": {
    "id": "Hnszs24dvOoy"
   },
   "outputs": [],
   "source": [
    "file.close()"
   ]
  },
  {
   "cell_type": "markdown",
   "metadata": {
    "id": "oFGe-342vqxG"
   },
   "source": [
    "Чтобы не писать каждый раз close() и точно не забыть о закрытии файла, можно воспользоваться следующей конструкцией:"
   ]
  },
  {
   "cell_type": "code",
   "execution_count": 23,
   "metadata": {
    "id": "4WTZrcidvp_t"
   },
   "outputs": [],
   "source": [
    "with open(\"hello.txt\", \"w\") as file:\n",
    "    file.write(\"Hello, \")\n",
    "    file.write(\"world!\\n\")"
   ]
  },
  {
   "cell_type": "markdown",
   "metadata": {
    "id": "_7blG8aUv5EX"
   },
   "source": [
    "Данный фрагмент кода равносилен тому, что было ранее. Тут откроется файл hello.txt на запись, он попадет в переменную file, в которую запишется информация, и после того, как код под with будет выполнен, файл автоматически будет закрыт."
   ]
  },
  {
   "cell_type": "markdown",
   "metadata": {
    "id": "MLg7ApjjnAvC"
   },
   "source": [
    "Важно отметить, что в файл можно записывать только текст, поэтому следующий код вызовет ошибку:"
   ]
  },
  {
   "cell_type": "code",
   "execution_count": 17,
   "metadata": {
    "colab": {
     "base_uri": "https://localhost:8080/",
     "height": 183
    },
    "id": "OWJI2JoAnICt",
    "outputId": "74d81265-79a7-4857-caf2-a91ae9874b88"
   },
   "outputs": [
    {
     "ename": "TypeError",
     "evalue": "write() argument must be str, not int",
     "output_type": "error",
     "traceback": [
      "\u001b[1;31m---------------------------------------------------------------------------\u001b[0m",
      "\u001b[1;31mTypeError\u001b[0m                                 Traceback (most recent call last)",
      "\u001b[1;32m<ipython-input-17-127fe8d96446>\u001b[0m in \u001b[0;36m<module>\u001b[1;34m\u001b[0m\n\u001b[0;32m      1\u001b[0m \u001b[1;32mwith\u001b[0m \u001b[0mopen\u001b[0m\u001b[1;33m(\u001b[0m\u001b[1;34m\"first.txt\"\u001b[0m\u001b[1;33m,\u001b[0m \u001b[1;34m\"w\"\u001b[0m\u001b[1;33m)\u001b[0m \u001b[1;32mas\u001b[0m \u001b[0mfile\u001b[0m\u001b[1;33m:\u001b[0m\u001b[1;33m\u001b[0m\u001b[1;33m\u001b[0m\u001b[0m\n\u001b[1;32m----> 2\u001b[1;33m     \u001b[0mfile\u001b[0m\u001b[1;33m.\u001b[0m\u001b[0mwrite\u001b[0m\u001b[1;33m(\u001b[0m\u001b[1;36m1\u001b[0m\u001b[1;33m)\u001b[0m\u001b[1;33m\u001b[0m\u001b[1;33m\u001b[0m\u001b[0m\n\u001b[0m",
      "\u001b[1;31mTypeError\u001b[0m: write() argument must be str, not int"
     ]
    }
   ],
   "source": [
    "with open(\"first.txt\", \"w\") as file:\n",
    "    file.write(1)"
   ]
  },
  {
   "cell_type": "markdown",
   "metadata": {
    "id": "NLTV6klLv5Id"
   },
   "source": [
    "Теперь прочитаем, что мы записали в файл. Для этого используется функция read() - она отдает все содержимое файла в виде строки. "
   ]
  },
  {
   "cell_type": "code",
   "execution_count": 24,
   "metadata": {
    "colab": {
     "base_uri": "https://localhost:8080/"
    },
    "id": "fwYf9muiwg0F",
    "outputId": "477a1273-7025-41ad-e547-e262e3869d45"
   },
   "outputs": [
    {
     "name": "stdout",
     "output_type": "stream",
     "text": [
      "Hello, world!\n",
      "\n"
     ]
    }
   ],
   "source": [
    "with open(\"hello.txt\", \"r\") as file:\n",
    "    print(file.read())"
   ]
  },
  {
   "cell_type": "markdown",
   "metadata": {
    "id": "ZjxfQrUCwmu9"
   },
   "source": [
    "Как можно заметить, в файле находится всего одна фраза Hello, world!, хотя было записано две. Это происходит из-за того, что когда мы открываем файл на запись, информация, которая лежала там, пропадает. Чтобы этого избежать и иметь возможность дописывать в конец файла, необходимо вместо использовать символ \"a\"."
   ]
  },
  {
   "cell_type": "code",
   "execution_count": 25,
   "metadata": {
    "colab": {
     "base_uri": "https://localhost:8080/"
    },
    "id": "1wSeVdbtwlkf",
    "outputId": "10439459-0740-4b6f-d6be-c6de96f57dee"
   },
   "outputs": [
    {
     "name": "stdout",
     "output_type": "stream",
     "text": [
      "Hello, world!\n",
      "Hello, world!\n",
      "\n"
     ]
    }
   ],
   "source": [
    "with open(\"hello.txt\", \"a\") as file:\n",
    "    file.write(\"Hello, world!\\n\")\n",
    "\n",
    "with open(\"hello.txt\", \"r\") as file:\n",
    "    print(file.read())"
   ]
  },
  {
   "cell_type": "markdown",
   "metadata": {
    "id": "3Jl620i7nl4Q"
   },
   "source": [
    "Помимо функции read(), которая позволяет считывать всю информацию из файла сразу, используется метод readlines(), который разбивает файл на строки и кладет их в список. Попробуем создать несколько файлов, и затем объединить их в один:"
   ]
  },
  {
   "cell_type": "markdown",
   "metadata": {},
   "source": [
    "Для этого сначала изучим форматный вывод строк и метод join()."
   ]
  },
  {
   "cell_type": "code",
   "execution_count": 29,
   "metadata": {},
   "outputs": [
    {
     "name": "stdout",
     "output_type": "stream",
     "text": [
      "Hello! It`s me! I know that your name is Jon. How are you?\n",
      "Hello! It`s me! I know that your name is Jon. How are you?\n"
     ]
    }
   ],
   "source": [
    "hello = \"Hello! It`s me!\"\n",
    "name = \"Jon\"\n",
    "question = \"How are you?\"\n",
    "\n",
    "print(\"{} I know that your name is {}. {}\".format(hello, name, question))\n",
    "\n",
    "#но можно еще короче\n",
    "\n",
    "print(f\"{hello} I know that your name is {name}. {question}\") #Это называется f-строка"
   ]
  },
  {
   "cell_type": "code",
   "execution_count": 33,
   "metadata": {},
   "outputs": [
    {
     "name": "stdout",
     "output_type": "stream",
     "text": [
      "1 2 3 4 5 6 7 8 9\n",
      "1|2|3|4|5|6|7|8|9\n",
      "1\n",
      "2\n",
      "3\n",
      "4\n",
      "5\n",
      "6\n",
      "7\n",
      "8\n",
      "9\n"
     ]
    }
   ],
   "source": [
    "list = \"1,2,3,4,5,6,7,8,9\".split(\",\")\n",
    "print(\" \".join(list))\n",
    "print(\"|\".join(list))\n",
    "print(\"\\n\".join(list))\n"
   ]
  },
  {
   "cell_type": "markdown",
   "metadata": {},
   "source": [
    "Теперь приступим:"
   ]
  },
  {
   "cell_type": "code",
   "execution_count": 36,
   "metadata": {
    "colab": {
     "base_uri": "https://localhost:8080/"
    },
    "id": "ulH93px2cEix",
    "outputId": "54396080-9957-464f-ee00-4138300fb904"
   },
   "outputs": [
    {
     "name": "stdout",
     "output_type": "stream",
     "text": [
      "0 1 2 3 \n",
      "1 2 3 4 \n",
      "2 3 4 5 \n",
      "3 4 5 6 \n"
     ]
    }
   ],
   "source": [
    "for i in range(4):\n",
    "    with open(f\"a_{i}.txt\", \"w\") as file:\n",
    "    \n",
    "    #запишем в каждый файл последовательность чисел от i до i + 4, т.е. при i=2\n",
    "\n",
    "        file.write(\"\\n\".join([str(i + j) for j in range(4)]))\n",
    "    \n",
    "        #теперь присоединим эти файлы построчно, т.е. в i строке будет стоять конкатенация i-ых строк всех файлов\n",
    "        #для этого удобно будет считывать строки из файла с помощью readlines\n",
    "\n",
    "result = [\"\" for i in range(4)]\n",
    "for i in range(4):\n",
    "    with open(f\"a_{i}.txt\", \"r\") as file:\n",
    "        lines = file.readlines()\n",
    "    for j in range(4):\n",
    "        \n",
    "    #метод readlines оставляет символы перехода строки, поэтому нам нужно от них избавиться с помощью strip()\n",
    "    \n",
    "        result[j] += lines[j].strip(\"\\n\")\n",
    "        result[j] += \" \"\n",
    "\n",
    "with open(\"a.txt\", \"w\") as file:\n",
    "    file.write(\"\\n\".join(result))\n",
    "\n",
    "with open(\"a.txt\", \"r\") as file:\n",
    "    print(file.read())"
   ]
  },
  {
   "cell_type": "markdown",
   "metadata": {
    "id": "5-r_g4vrfhkx"
   },
   "source": [
    "С помощью open() можно открывать не только текстовые файлы, но и файлы любого типа. Также, некоторые файлы необходимо открывать, добавив символ \"b\". Это означает, что мы вытаскиваем из файла не строку, а байты (например, прочитать файл побайтово - open(filename, \"rb\"))."
   ]
  },
  {
   "cell_type": "markdown",
   "metadata": {
    "id": "PRhXVD50gkuQ"
   },
   "source": [
    "### Csv-файлы"
   ]
  },
  {
   "cell_type": "markdown",
   "metadata": {
    "id": "tPlbDpadgoAo"
   },
   "source": [
    "Очень популярным форматом хранения данных в сфере машинного обучения является csv - comma-separated values. В нем каждая строка файла символизирует строку в табличке, а значения внутри строки разделяются с помощью запятых."
   ]
  },
  {
   "cell_type": "markdown",
   "metadata": {
    "id": "ZEg3En2Bh25-"
   },
   "source": [
    "Например, рассмотрим вот такую таблицу:"
   ]
  },
  {
   "cell_type": "markdown",
   "metadata": {
    "id": "AgArULI3hHq6"
   },
   "source": [
    "| Рост | Пол | Вес |\n",
    "|------|-----|-----|\n",
    "| 185  | М   | 83  |\n",
    "| 163  | Ж   | 49  |\n",
    "| 170  | Ж   | 57  |\n",
    "| 179  | М   | 60  |"
   ]
  },
  {
   "cell_type": "markdown",
   "metadata": {
    "id": "LzEdbD9sh6pV"
   },
   "source": [
    "Первой строкой в файл записываются названия колонок, а потом идут непосредственно данные. То есть, в файле формата csv она бы выглядела вот так:\n"
   ]
  },
  {
   "cell_type": "markdown",
   "metadata": {
    "id": "HtYeCc6OjCSF"
   },
   "source": [
    "Рост,Пол,Вес<br>\n",
    "185,М,83<br>\n",
    "163,Ж,49<br>\n",
    "170,Ж,57<br>\n",
    "179,М,60<br>"
   ]
  },
  {
   "cell_type": "markdown",
   "metadata": {
    "id": "bcdW8FFYkv5V"
   },
   "source": [
    "Попробуем это сделать. С помощью open() создадим таблицу table.csv, и запишем туда данные."
   ]
  },
  {
   "cell_type": "code",
   "execution_count": 4,
   "metadata": {
    "id": "hFCPaBULghE6"
   },
   "outputs": [
    {
     "name": "stdout",
     "output_type": "stream",
     "text": [
      "Рост,Пол,Вес\n",
      "185,М,83\n",
      "163,Ж,49\n",
      "170,Ж,57\n",
      "179,М,60\n",
      "\n"
     ]
    }
   ],
   "source": [
    "data = [[185, \"М\", 83],\n",
    "        [163, \"Ж\", 49],\n",
    "        [170, \"Ж\", 57],\n",
    "        [179, \"М\", 60]]\n",
    "\n",
    "columns = [\"Рост\", \"Пол\", \"Вес\"]\n",
    "\n",
    "with open(\"table.csv\", \"w\") as file:\n",
    "    \n",
    "#сначала запишем названия колонок в файл\n",
    "\n",
    "    file.write(\",\".join(columns))\n",
    "    file.write(\"\\n\")\n",
    "    \n",
    "    #теперь добавим в файл все строки таблицы построчно\n",
    "\n",
    "    for line in data:\n",
    "        \n",
    "    #сначала нужно превратить все данные в строки, так как write() работает только со строковым типом\n",
    "    \n",
    "        line = [str(x) for x in line]\n",
    "        file.write(\",\".join(line))\n",
    "        file.write(\"\\n\")\n",
    "\n",
    "with open(\"table.csv\", \"r\") as file:\n",
    "    print(file.read())"
   ]
  },
  {
   "cell_type": "markdown",
   "metadata": {
    "id": "3sR1QukIoTNU"
   },
   "source": [
    "Теперь сделаем наоборот: вытащим записанные в файл данные в список"
   ]
  },
  {
   "cell_type": "markdown",
   "metadata": {
    "id": "oe5NiELuoAYp"
   },
   "source": [
    "Для считывания информации из csv таблицы удобно использовать метод readlines(), который разбивает файл на строки и кладет их в список."
   ]
  },
  {
   "cell_type": "code",
   "execution_count": 2,
   "metadata": {
    "colab": {
     "base_uri": "https://localhost:8080/"
    },
    "id": "z9JAnFKVn6il",
    "outputId": "c826867e-1486-4fe9-d033-c0e543a510ca"
   },
   "outputs": [
    {
     "name": "stdout",
     "output_type": "stream",
     "text": [
      "Рост Пол Вес\n",
      "185   М   83\n",
      "163   Ж   49\n",
      "170   Ж   57\n",
      "179   М   60\n"
     ]
    }
   ],
   "source": [
    "with open(\"table.csv\", \"r\") as file:\n",
    "    lines = file.readlines()\n",
    "    data = []\n",
    "    \n",
    "  #нужно использовать strip(), так как readlines не убирает символы перехода строки\n",
    "\n",
    "    columns = lines[0].strip(\"\\n\").split(\",\")\n",
    "    \n",
    "    for line in lines[1:]:\n",
    "        data.append(line.strip(\"\\n\").split(\",\"))\n",
    "\n",
    "print(*columns)\n",
    "for row in data:\n",
    "    print(\"   \".join(row))"
   ]
  },
  {
   "cell_type": "markdown",
   "metadata": {
    "id": "7A4-XL5VozOM"
   },
   "source": [
    "Осталось превратить данные в столбцах Рост и Вес в числа."
   ]
  },
  {
   "cell_type": "code",
   "execution_count": 5,
   "metadata": {
    "colab": {
     "base_uri": "https://localhost:8080/"
    },
    "id": "k_VlUoVChBJo",
    "outputId": "1cebab00-0900-47d0-880f-4dad31270cb1"
   },
   "outputs": [
    {
     "name": "stdout",
     "output_type": "stream",
     "text": [
      "[185, 'М', 83]\n",
      "[163, 'Ж', 49]\n",
      "[170, 'Ж', 57]\n",
      "[179, 'М', 60]\n"
     ]
    }
   ],
   "source": [
    "for i in range(len(data)):\n",
    "    data[i][0], data[i][2] = int(data[i][0]), int(data[i][2])\n",
    "\n",
    "print(*data, sep = \"\\n\")"
   ]
  },
  {
   "cell_type": "markdown",
   "metadata": {
    "id": "9m02KUPzh1qg"
   },
   "source": [
    "### Json-файлы"
   ]
  },
  {
   "cell_type": "markdown",
   "metadata": {
    "id": "9m02KUPzh1qg"
   },
   "source": [
    "Не всегда данные удобно представлять в табличном формате. Например, если есть информация о городах и ресторанах в них, то может быть удобно представить её в виде вложенных словарей такого вида:"
   ]
  },
  {
   "cell_type": "markdown",
   "metadata": {
    "id": "9m02KUPzh1qg"
   },
   "source": [
    "```\n",
    "{\n",
    "  \"Москва\": {\n",
    "    \"White Rabbit\": {\n",
    "      \"Средний чек, р.\": 1500, \n",
    "      \"Звезды Мишлен\": 1\n",
    "    },\n",
    "    \"Дичь\": {\n",
    "      \"Средний чек, р.\": 700\n",
    "    }\n",
    "  },\n",
    "  \"Санкт-Петербург\": {\n",
    "    \"Хотдожная 8956\": {\n",
    "      \"Средний чек, р.\": 800,\n",
    "      \"Создатель\": \"Друг Обломов\"\n",
    "    },\n",
    "    \"Баклажан\": {\n",
    "      \"Средний чек, р.\": 1300\n",
    "    }\n",
    "  }\n",
    "}\n",
    "```"
   ]
  },
  {
   "cell_type": "markdown",
   "metadata": {
    "id": "9m02KUPzh1qg"
   },
   "source": [
    "Для хранения данных в таком виде используется формат json. Он, например, очень часто используется для передачи информации между сайтами. Для работы с ним используется библиотека json, которая автоматически устанавливается вместе с python."
   ]
  },
  {
   "cell_type": "code",
   "execution_count": 8,
   "metadata": {
    "id": "9m02KUPzh1qg"
   },
   "outputs": [],
   "source": [
    "import json"
   ]
  },
  {
   "cell_type": "code",
   "execution_count": 10,
   "metadata": {
    "id": "9m02KUPzh1qg"
   },
   "outputs": [],
   "source": [
    "data = {\n",
    "  \"Москва\": {\n",
    "    \"White Rabbit\": {\n",
    "      \"Средний чек, р.\": 1500, \n",
    "      \"Звезды Мишлен\": 1\n",
    "    },\n",
    "    \"Дичь\": {\n",
    "      \"Средний чек, р.\": 700\n",
    "    }\n",
    "  },\n",
    "  \"Санкт-Петербург\": {\n",
    "    \"Хотдожная 8956\": {\n",
    "      \"Средний чек, р.\": 800,\n",
    "      \"Создатель\": \"Друг Обломов\"\n",
    "    },\n",
    "    \"Баклажан\": {\n",
    "      \"Средний чек, р.\": 1300\n",
    "    }\n",
    "  }\n",
    "}"
   ]
  },
  {
   "cell_type": "markdown",
   "metadata": {
    "id": "9m02KUPzh1qg"
   },
   "source": [
    "Для записи такого вложенного словаря в файл используется функция dump() из библиотеки json."
   ]
  },
  {
   "cell_type": "code",
   "execution_count": 11,
   "metadata": {
    "id": "9m02KUPzh1qg"
   },
   "outputs": [],
   "source": [
    "with open(\"data.json\", \"w\") as file:\n",
    "    json.dump(data, file)"
   ]
  },
  {
   "cell_type": "markdown",
   "metadata": {
    "id": "9m02KUPzh1qg"
   },
   "source": [
    "Чтобы открыть записанный нами словарь, используется функция json.load()."
   ]
  },
  {
   "cell_type": "code",
   "execution_count": 13,
   "metadata": {
    "id": "9m02KUPzh1qg"
   },
   "outputs": [
    {
     "name": "stdout",
     "output_type": "stream",
     "text": [
      "{'Средний чек, р.': 1500, 'Звезды Мишлен': 1}\n"
     ]
    }
   ],
   "source": [
    "with open(\"data.json\", \"r\") as file:\n",
    "    restaraunts_dict = json.load(file)\n",
    "\n",
    "print(restaraunts_dict[\"Москва\"][\"White Rabbit\"])"
   ]
  },
  {
   "cell_type": "markdown",
   "metadata": {
    "id": "9m02KUPzh1qg"
   },
   "source": [
    "Такой формат хранения данных удобен, если они имеют иерархическую структуру."
   ]
  },
  {
   "cell_type": "markdown",
   "metadata": {},
   "source": [
    "### Практика"
   ]
  },
  {
   "cell_type": "markdown",
   "metadata": {},
   "source": [
    "#### 1.\n",
    "Создать две csv таблицы. \n",
    "В одном случае для разделителя строк в таблице использовать точку с запятой, а в другом - переход на новую строку. \n",
    "Считать их из файлов, и затем сравнить поэлементно, получив таблицу со значениями True или False, где True в i-ой строке j-ом столбце означает, что элементы на этом месте в обоих изначальных табличках совпадают."
   ]
  },
  {
   "cell_type": "markdown",
   "metadata": {
    "id": "9m02KUPzh1qg"
   },
   "source": [
    "Создание таблиц:"
   ]
  },
  {
   "cell_type": "code",
   "execution_count": 26,
   "metadata": {
    "id": "9m02KUPzh1qg"
   },
   "outputs": [
    {
     "name": "stdout",
     "output_type": "stream",
     "text": [
      "Рост,Пол,Вес;185,М,83;163,Ж,49;170,Ж,57;179,М,60\n",
      "Рост,Пол,Вес\n",
      "185,М,78\n",
      "165,Ж,52\n",
      "170,Ж,57\n",
      "179,Ж,54\n"
     ]
    }
   ],
   "source": [
    "columns = [\"Рост\", \"Пол\", \"Вес\"]\n",
    "\n",
    "first_table = [[185, \"М\", 83],\n",
    "               [163, \"Ж\", 49],\n",
    "               [170, \"Ж\", 57],\n",
    "               [179, \"М\", 60]]\n",
    "\n",
    "second_table = [[185, \"М\", 78],\n",
    "                [165, \"Ж\", 52],\n",
    "                [170, \"Ж\", 57],\n",
    "                [179, \"Ж\", 54]]\n",
    "\n",
    "with open(\"table_1.csv\", \"w\") as file:\n",
    "    file.write(\",\".join(columns))\n",
    "    file.write(\";\")\n",
    "    lines = \";\".join([\",\".join([str(x) for x in line]) for line in first_table])\n",
    "    file.write(lines)\n",
    "\n",
    "with open(\"table_2.csv\", \"w\") as file:\n",
    "    file.write(\",\".join(columns))\n",
    "    file.write(\"\\n\")\n",
    "    lines = \"\\n\".join([\",\".join([str(x) for x in line]) for line in second_table])\n",
    "    file.write(lines)\n",
    "    \n",
    "with open(\"table_1.csv\", \"r\") as file:\n",
    "    print(file.read())\n",
    "    \n",
    "with open(\"table_2.csv\", \"r\") as file:\n",
    "    print(file.read())"
   ]
  },
  {
   "cell_type": "markdown",
   "metadata": {
    "id": "9m02KUPzh1qg"
   },
   "source": [
    "Считывание и сравнение:"
   ]
  },
  {
   "cell_type": "code",
   "execution_count": 28,
   "metadata": {
    "id": "9m02KUPzh1qg"
   },
   "outputs": [
    {
     "name": "stdout",
     "output_type": "stream",
     "text": [
      "True True False \n",
      "False True False \n",
      "True True True \n",
      "True False False \n"
     ]
    }
   ],
   "source": [
    "tables_params = [(\"table_1.csv\", \";\"), (\"table_2.csv\", \"\\n\")]\n",
    "#в список tables положите на нулевую позицию данные первой таблицы, на вторую позицию - данные второй таблицы\n",
    "#без названий колонок!\n",
    "tables = []\n",
    "for filename, sep in tables_params:\n",
    "    with open(filename, \"r\") as file:\n",
    "        raw_data = file.read()\n",
    "        table_data = [x.split(\",\") for x in raw_data.split(sep)[1:]]\n",
    "        tables.append(table_data)\n",
    "\n",
    "for i in range(4):\n",
    "    for j in range(3):\n",
    "        print(tables[0][i][j] == tables[1][i][j], end=\" \")\n",
    "    print()"
   ]
  },
  {
   "cell_type": "markdown",
   "metadata": {},
   "source": [
    "#### 2. \n",
    "Считать данные из файла \"StudentsPerformance.csv\" и найти среднее арифметическое всех баллов всех учеников."
   ]
  },
  {
   "cell_type": "code",
   "execution_count": 52,
   "metadata": {},
   "outputs": [
    {
     "name": "stdout",
     "output_type": "stream",
     "text": [
      "67.77066666666667\n"
     ]
    }
   ],
   "source": [
    "with open(\"StudentsPerformance.csv\", \"r\") as file:\n",
    "    lines = file.readlines()\n",
    "    summ = count = 0\n",
    "    for s in lines[1:]:\n",
    "        line = s.strip('\\n').split(',')\n",
    "        summ += sum([int(x) for x in line[5:]])\n",
    "        count += 3\n",
    "    print(summ/count)"
   ]
  },
  {
   "cell_type": "markdown",
   "metadata": {},
   "source": [
    "#### 3. \n",
    "Считать данные из файла \"StudentsPerformance.csv\" и найти, сколько в датасете мальчиков."
   ]
  },
  {
   "cell_type": "code",
   "execution_count": 58,
   "metadata": {},
   "outputs": [
    {
     "name": "stdout",
     "output_type": "stream",
     "text": [
      "482\n"
     ]
    }
   ],
   "source": [
    "with open(\"StudentsPerformance.csv\", \"r\") as file:\n",
    "    lines = file.readlines()\n",
    "    summ = 0\n",
    "    for s in lines[1:]:\n",
    "        line = s.strip('\\n').split(',')\n",
    "        if line[0] == 'male':\n",
    "            summ += 1 \n",
    "    print(summ)"
   ]
  },
  {
   "cell_type": "markdown",
   "metadata": {},
   "source": [
    "#### 4. \n",
    "Считать данные из файла \"StudentsPerformance.csv\" и найти, сколько абитуриентов получили на экзамене по колдовству (Charms score) оценку равную или ниже среднего арифметического."
   ]
  },
  {
   "cell_type": "code",
   "execution_count": 70,
   "metadata": {},
   "outputs": [
    {
     "name": "stdout",
     "output_type": "stream",
     "text": [
      "507\n"
     ]
    }
   ],
   "source": [
    "education = []\n",
    "with open(\"StudentsPerformance.csv\", \"r\") as file:\n",
    "    lines = file.readlines()\n",
    "    summ = count = 0\n",
    "    for s in lines[1:]:\n",
    "        line = s.strip('\\n').split(',')\n",
    "        summ += int(line[5])\n",
    "    avg = summ/1000\n",
    "    \n",
    "    for s in lines[1:]:\n",
    "        line = s.strip('\\n').split(',')\n",
    "        if int(line[5]) <= avg:\n",
    "            count += 1\n",
    "print(count)\n",
    "    "
   ]
  }
 ],
 "metadata": {
  "colab": {
   "name": "Работа с файлами.ipynb",
   "provenance": []
  },
  "kernelspec": {
   "display_name": "Python 3",
   "language": "python",
   "name": "python3"
  },
  "language_info": {
   "codemirror_mode": {
    "name": "ipython",
    "version": 3
   },
   "file_extension": ".py",
   "mimetype": "text/x-python",
   "name": "python",
   "nbconvert_exporter": "python",
   "pygments_lexer": "ipython3",
   "version": "3.8.8"
  }
 },
 "nbformat": 4,
 "nbformat_minor": 1
}
