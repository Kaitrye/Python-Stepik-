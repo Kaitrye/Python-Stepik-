{
 "cells": [
  {
   "cell_type": "markdown",
   "id": "a119eee5",
   "metadata": {},
   "source": [
    "# Базовый синтаксис Python"
   ]
  },
  {
   "cell_type": "markdown",
   "id": "1a2e16bb",
   "metadata": {},
   "source": [
    "### Создание переменных"
   ]
  },
  {
   "cell_type": "markdown",
   "id": "6b9ddbb6",
   "metadata": {},
   "source": [
    "Начнем с традиционной программы, которая приветствует весь наш мир :) "
   ]
  },
  {
   "cell_type": "code",
   "execution_count": 1,
   "id": "2f71be21",
   "metadata": {},
   "outputs": [
    {
     "name": "stdout",
     "output_type": "stream",
     "text": [
      "Hello, world!\n"
     ]
    }
   ],
   "source": [
    "print ('Hello, world!')"
   ]
  },
  {
   "cell_type": "markdown",
   "id": "73984f65",
   "metadata": {},
   "source": [
    "Теперь научимся объявлять переменные."
   ]
  },
  {
   "cell_type": "code",
   "execution_count": 2,
   "id": "d949220c",
   "metadata": {
    "scrolled": true
   },
   "outputs": [
    {
     "name": "stdout",
     "output_type": "stream",
     "text": [
      "Slava\n",
      "5\n"
     ]
    }
   ],
   "source": [
    "a = 5\n",
    "my_name = \"Slava\"\n",
    "\n",
    "print(my_name)\n",
    "print(a)"
   ]
  },
  {
   "cell_type": "markdown",
   "id": "b3bc715b",
   "metadata": {},
   "source": [
    "### Типы переменных"
   ]
  },
  {
   "cell_type": "markdown",
   "id": "5d002ced",
   "metadata": {},
   "source": [
    "Заметим, что переменные могут быть не только числами. Изучим подробнее их типы:"
   ]
  },
  {
   "cell_type": "markdown",
   "id": "3abadb58",
   "metadata": {},
   "source": [
    "#### 1. Целые числа (integer):\n",
    "\n",
    "Определить тип переменной нам поможет функция type()."
   ]
  },
  {
   "cell_type": "code",
   "execution_count": 46,
   "id": "4493d2f9",
   "metadata": {
    "scrolled": false
   },
   "outputs": [
    {
     "name": "stdout",
     "output_type": "stream",
     "text": [
      "<class 'int'>\n"
     ]
    }
   ],
   "source": [
    "students_count = 508\n",
    "print(type(students_count))"
   ]
  },
  {
   "cell_type": "markdown",
   "id": "f3901a8e",
   "metadata": {},
   "source": [
    "#### 2. Числа с плавающей запятой (float):"
   ]
  },
  {
   "cell_type": "code",
   "execution_count": 45,
   "id": "891e42b3",
   "metadata": {},
   "outputs": [
    {
     "name": "stdout",
     "output_type": "stream",
     "text": [
      "<class 'float'>\n"
     ]
    }
   ],
   "source": [
    "room_temp = 25.3\n",
    "print(type(room_temp))"
   ]
  },
  {
   "cell_type": "markdown",
   "id": "cdeba471",
   "metadata": {},
   "source": [
    "#### 3. Строка (string):"
   ]
  },
  {
   "cell_type": "code",
   "execution_count": 44,
   "id": "6dedd656",
   "metadata": {},
   "outputs": [
    {
     "name": "stdout",
     "output_type": "stream",
     "text": [
      "<class 'str'>\n"
     ]
    }
   ],
   "source": [
    "movie = \"Green book\"\n",
    "print(type(movie))"
   ]
  },
  {
   "cell_type": "markdown",
   "id": "742aae9e",
   "metadata": {},
   "source": [
    "Но как же нам быть, если мы хотим изменить тип переменной? Специально для этого есть функции float(), str() и int()."
   ]
  },
  {
   "cell_type": "code",
   "execution_count": 7,
   "id": "669ddbe6",
   "metadata": {},
   "outputs": [
    {
     "name": "stdout",
     "output_type": "stream",
     "text": [
      "25 <class 'int'>\n",
      "25.0 <class 'float'>\n",
      "25 <class 'str'>\n",
      "25 <class 'int'>\n"
     ]
    }
   ],
   "source": [
    "a = 25\n",
    "print(a, type(a))\n",
    "\n",
    "b = float(a)\n",
    "print(b, type(b))\n",
    "\n",
    "c = str(a)\n",
    "print(c, type(c))\n",
    "\n",
    "d = int(c)\n",
    "print(d, type(d))"
   ]
  },
  {
   "cell_type": "markdown",
   "id": "9f7f573b",
   "metadata": {},
   "source": [
    "### Операции над переменными"
   ]
  },
  {
   "cell_type": "markdown",
   "id": "c55636ce",
   "metadata": {},
   "source": [
    "Переменные сами по себе редко когда нужны, важнее операции над ними. А для операций над переменными, конечно же, нужны операторы:"
   ]
  },
  {
   "cell_type": "markdown",
   "id": "c0ee87b4",
   "metadata": {},
   "source": [
    "#### Сложение: +"
   ]
  },
  {
   "cell_type": "code",
   "execution_count": 8,
   "id": "7536e49d",
   "metadata": {},
   "outputs": [
    {
     "name": "stdout",
     "output_type": "stream",
     "text": [
      "50\n"
     ]
    }
   ],
   "source": [
    "adding = a + d\n",
    "print(adding)"
   ]
  },
  {
   "cell_type": "markdown",
   "id": "5b8a6f1d",
   "metadata": {},
   "source": [
    "#### Вычитание: -"
   ]
  },
  {
   "cell_type": "code",
   "execution_count": 9,
   "id": "a5d74c41",
   "metadata": {},
   "outputs": [
    {
     "name": "stdout",
     "output_type": "stream",
     "text": [
      "0\n"
     ]
    }
   ],
   "source": [
    "subtraction = a - d\n",
    "print(subtraction)"
   ]
  },
  {
   "cell_type": "markdown",
   "id": "135752b3",
   "metadata": {},
   "source": [
    "#### Деление: /"
   ]
  },
  {
   "cell_type": "code",
   "execution_count": 10,
   "id": "b8a09c63",
   "metadata": {},
   "outputs": [
    {
     "name": "stdout",
     "output_type": "stream",
     "text": [
      "1\n"
     ]
    }
   ],
   "source": [
    "division = int(a / d)\n",
    "print(division)"
   ]
  },
  {
   "cell_type": "markdown",
   "id": "2d4156b5",
   "metadata": {},
   "source": [
    "#### Умножение: *"
   ]
  },
  {
   "cell_type": "code",
   "execution_count": 11,
   "id": "000c80de",
   "metadata": {},
   "outputs": [
    {
     "name": "stdout",
     "output_type": "stream",
     "text": [
      "625\n"
     ]
    }
   ],
   "source": [
    "multiplication = a * d\n",
    "print(multiplication)"
   ]
  },
  {
   "cell_type": "markdown",
   "id": "cf0f5d4f",
   "metadata": {},
   "source": [
    "Это базовые операторы, знакомые нам ещё с математики. Теперь операторы посложнее:"
   ]
  },
  {
   "cell_type": "markdown",
   "id": "36d43b84",
   "metadata": {},
   "source": [
    "#### Деление нацело (остаток просто отбрасывается): //"
   ]
  },
  {
   "cell_type": "code",
   "execution_count": 12,
   "id": "aa6a03c2",
   "metadata": {},
   "outputs": [
    {
     "name": "stdout",
     "output_type": "stream",
     "text": [
      "8\n"
     ]
    }
   ],
   "source": [
    "div_without_remainder = a // 3\n",
    "print(div_without_remainder)"
   ]
  },
  {
   "cell_type": "markdown",
   "id": "2f13bdf5",
   "metadata": {},
   "source": [
    "#### Остаток: %"
   ]
  },
  {
   "cell_type": "code",
   "execution_count": 13,
   "id": "41ad7d30",
   "metadata": {},
   "outputs": [
    {
     "name": "stdout",
     "output_type": "stream",
     "text": [
      "1\n"
     ]
    }
   ],
   "source": [
    "remainder = a % 3\n",
    "print(remainder)"
   ]
  },
  {
   "cell_type": "markdown",
   "id": "5ccd1b69",
   "metadata": {},
   "source": [
    "#### Возведение в степень: **"
   ]
  },
  {
   "cell_type": "code",
   "execution_count": 14,
   "id": "a4df4fce",
   "metadata": {},
   "outputs": [
    {
     "name": "stdout",
     "output_type": "stream",
     "text": [
      "625\n"
     ]
    }
   ],
   "source": [
    "degree = a ** 2\n",
    "print(degree)"
   ]
  },
  {
   "cell_type": "markdown",
   "id": "380ff045",
   "metadata": {},
   "source": [
    "Кроме того, необязательно каждое действие писать отдельно, гораздо удобнее просто воспользоваться скобками:"
   ]
  },
  {
   "cell_type": "code",
   "execution_count": 15,
   "id": "36ea25d1",
   "metadata": {
    "scrolled": true
   },
   "outputs": [
    {
     "name": "stdout",
     "output_type": "stream",
     "text": [
      "4\n"
     ]
    }
   ],
   "source": [
    "print(int(((3**(5+2)/(33-3))//4)%7))"
   ]
  },
  {
   "cell_type": "markdown",
   "id": "6f61eb9d",
   "metadata": {},
   "source": [
    "В Python тип float имеет преимущество. При делении результат всегда будет иметь тип float, при других операциях, если хоть одна переменная имеет тип float, то и результат будет иметь этот тип. Рассмотрим на примере:"
   ]
  },
  {
   "cell_type": "code",
   "execution_count": 16,
   "id": "97096df8",
   "metadata": {},
   "outputs": [
    {
     "name": "stdout",
     "output_type": "stream",
     "text": [
      "<class 'float'>\n",
      "<class 'float'>\n"
     ]
    }
   ],
   "source": [
    "a = b + d\n",
    "print(type(a))\n",
    "\n",
    "a = d / 5\n",
    "print(type(a))"
   ]
  },
  {
   "cell_type": "markdown",
   "id": "97f61022",
   "metadata": {},
   "source": [
    "Операторы + и * интересны также тем, что они работают и с типом string."
   ]
  },
  {
   "cell_type": "code",
   "execution_count": 1,
   "id": "fd9f1131",
   "metadata": {},
   "outputs": [
    {
     "name": "stdout",
     "output_type": "stream",
     "text": [
      "Hello, world!\n"
     ]
    }
   ],
   "source": [
    "c = \"Hello, \"\n",
    "s = c + \"world!\"\n",
    "print(s)"
   ]
  },
  {
   "cell_type": "code",
   "execution_count": 2,
   "id": "e5856c74",
   "metadata": {},
   "outputs": [
    {
     "name": "stdout",
     "output_type": "stream",
     "text": [
      "Hello, world!\n",
      "Hello, world!\n",
      "Hello, world!\n",
      "Hello, world!\n",
      "Hello, world!\n",
      "\n"
     ]
    }
   ],
   "source": [
    "s = (s + \"\\n\")*5\n",
    "print(s)"
   ]
  },
  {
   "cell_type": "markdown",
   "id": "9888eec6",
   "metadata": {},
   "source": [
    "### Ввод данных"
   ]
  },
  {
   "cell_type": "markdown",
   "id": "554b0beb",
   "metadata": {},
   "source": [
    "Теперь перейдем к более сложным пограммам, которые могут взаимодействовать с пользователем."
   ]
  },
  {
   "cell_type": "code",
   "execution_count": 6,
   "id": "7c80528f",
   "metadata": {},
   "outputs": [
    {
     "name": "stdout",
     "output_type": "stream",
     "text": [
      "Hello! What is your name?\n",
      "Kaitrye\n"
     ]
    },
    {
     "data": {
      "text/plain": [
       "'Kaitrye'"
      ]
     },
     "execution_count": 6,
     "metadata": {},
     "output_type": "execute_result"
    }
   ],
   "source": [
    "input(\"Hello! What is your name?\\n\")\n",
    "\n",
    "#значок \"\\n\" - символ перехода на новый абзац"
   ]
  },
  {
   "cell_type": "markdown",
   "id": "95ab7efd",
   "metadata": {},
   "source": [
    "Введенные пользователем данные можно сохранять в переменные."
   ]
  },
  {
   "cell_type": "code",
   "execution_count": 8,
   "id": "a16946c4",
   "metadata": {},
   "outputs": [
    {
     "name": "stdout",
     "output_type": "stream",
     "text": [
      "What is your name again?\n",
      "Kaitrye\n",
      "Hello, Kaitrye\n"
     ]
    }
   ],
   "source": [
    "name = input(\"What is your name again?\\n\")\n",
    "print(\"Hello,\", name)"
   ]
  },
  {
   "cell_type": "markdown",
   "id": "434433e2",
   "metadata": {},
   "source": [
    "Проблема возникает уже тогда, когда мы хотим узнать возраст пользователя, ведь команда input() воспринимает все введенные данные как тип string. Однако и эта проблема имеет решение. Всё, что нужно, это применить знакомые функции перевода в нужный тип:"
   ]
  },
  {
   "cell_type": "code",
   "execution_count": 10,
   "id": "5574f3f3",
   "metadata": {},
   "outputs": [
    {
     "name": "stdout",
     "output_type": "stream",
     "text": [
      "Good! And how old are you?\n",
      "19\n",
      "Your age: 19\n"
     ]
    }
   ],
   "source": [
    "age = int(input(\"Good! And how old are you?\\n\"))\n",
    "print(\"Your age:\", age)"
   ]
  },
  {
   "cell_type": "markdown",
   "id": "8a44cebb",
   "metadata": {},
   "source": [
    "А теперь попробуем совместить:"
   ]
  },
  {
   "cell_type": "code",
   "execution_count": 34,
   "id": "ae500630",
   "metadata": {},
   "outputs": [
    {
     "name": "stdout",
     "output_type": "stream",
     "text": [
      "What is your name?\n",
      "Kaitye\n",
      "How old are you?\n",
      "19\n",
      "\n",
      "Hello, Kaitye.\n",
      "I know only that you are 19 years old.\n",
      "Let`s find out more about you!\n"
     ]
    }
   ],
   "source": [
    "name = input(\"What is your name?\\n\")\n",
    "age = int(input(\"How old are you?\\n\"))\n",
    "print(\"\\nHello,\", name + \".\")\n",
    "print(\"I know only that you are\", age, \"years old.\")\n",
    "print(\"Let`s find out more about you!\")"
   ]
  },
  {
   "cell_type": "markdown",
   "id": "6bd0f56a",
   "metadata": {},
   "source": [
    "И, в дополнение, напишем программу, которая вычисляет разницу в возрасте между вами и вашим любимым актером:"
   ]
  },
  {
   "cell_type": "code",
   "execution_count": 20,
   "id": "d1703bda",
   "metadata": {},
   "outputs": [
    {
     "name": "stdout",
     "output_type": "stream",
     "text": [
      "What is your age?\n",
      "19\n",
      "What is actor`s age?\n",
      "46\n",
      "\n",
      "Your difference: 27\n"
     ]
    }
   ],
   "source": [
    "your_age = int(input(\"What is your age?\\n\"))\n",
    "actor_age = int(input(\"What is actor`s age?\\n\"))\n",
    "\n",
    "difference = actor_age - your_age\n",
    "print(\"\\n\" + \"Your difference:\", difference)"
   ]
  },
  {
   "cell_type": "markdown",
   "id": "87eeef5f",
   "metadata": {},
   "source": [
    "### Логические переменные и тип boolean"
   ]
  },
  {
   "cell_type": "markdown",
   "id": "248fe5c2",
   "metadata": {},
   "source": [
    "Добавим к нашему словарю еще один тип переменных - boolean. Он имеет только два значения: True и False. Он предназначен для работы с логическими переменными."
   ]
  },
  {
   "cell_type": "code",
   "execution_count": 24,
   "id": "b181ffaf",
   "metadata": {},
   "outputs": [
    {
     "name": "stdout",
     "output_type": "stream",
     "text": [
      "False\n",
      "True\n"
     ]
    }
   ],
   "source": [
    "a = 25\n",
    "b = (a == 2) #Выражение в скобках это условие, то есть b = True - если a равно 2 и b = False - если a не равно 2\n",
    "print(b)\n",
    "\n",
    "b = (a >= 25)\n",
    "print(b)"
   ]
  },
  {
   "cell_type": "markdown",
   "id": "c3a90636",
   "metadata": {},
   "source": [
    "Этот тип можно преобразовывать и в числа. Тогда он будет работать как обычный двоичный код."
   ]
  },
  {
   "cell_type": "code",
   "execution_count": 25,
   "id": "2e09d625",
   "metadata": {},
   "outputs": [
    {
     "name": "stdout",
     "output_type": "stream",
     "text": [
      "1\n",
      "0\n"
     ]
    }
   ],
   "source": [
    "a = True\n",
    "b = False\n",
    "print(int(a))\n",
    "print(int(b))"
   ]
  },
  {
   "cell_type": "markdown",
   "id": "449bf16d",
   "metadata": {},
   "source": [
    "Интересен также переход к этому типу из string. Любая ненулевая строка будет считаться за True, а нулевая - за False."
   ]
  },
  {
   "cell_type": "code",
   "execution_count": 26,
   "id": "808edc31",
   "metadata": {},
   "outputs": [
    {
     "name": "stdout",
     "output_type": "stream",
     "text": [
      "True\n",
      "False\n"
     ]
    }
   ],
   "source": [
    "a = 'Hello!'\n",
    "b = ''\n",
    "print(bool(a))\n",
    "print(bool(b))"
   ]
  },
  {
   "cell_type": "markdown",
   "id": "0e15d416",
   "metadata": {},
   "source": [
    "Раз уж речь зашла про логические переменные, то познакомимся и с логическими операндами:"
   ]
  },
  {
   "cell_type": "markdown",
   "id": "d2ab2c6d",
   "metadata": {},
   "source": [
    "Первые - это and и or:"
   ]
  },
  {
   "cell_type": "code",
   "execution_count": 27,
   "id": "0998924d",
   "metadata": {},
   "outputs": [
    {
     "name": "stdout",
     "output_type": "stream",
     "text": [
      "False\n",
      "True\n"
     ]
    }
   ],
   "source": [
    "a = 5\n",
    "b = 3\n",
    "print(a == 5 and b == 5) #логическое и\n",
    "print(a == 5 or b == 5) #логическое или"
   ]
  },
  {
   "cell_type": "markdown",
   "id": "e2ad193c",
   "metadata": {},
   "source": [
    "Еще один интересный оператор - это not:"
   ]
  },
  {
   "cell_type": "code",
   "execution_count": 22,
   "id": "3386c4dc",
   "metadata": {},
   "outputs": [
    {
     "name": "stdout",
     "output_type": "stream",
     "text": [
      "False\n",
      "True\n"
     ]
    }
   ],
   "source": [
    "print(not True) #логическое отрицание\n",
    "print(not False)"
   ]
  },
  {
   "cell_type": "markdown",
   "id": "7fa125f8",
   "metadata": {},
   "source": [
    "### Условные функции и циклы"
   ]
  },
  {
   "cell_type": "markdown",
   "id": "0b672501",
   "metadata": {},
   "source": [
    "А теперь, наконец, познакомимся с новыми функциями if, else, elif:"
   ]
  },
  {
   "cell_type": "code",
   "execution_count": 28,
   "id": "aa50e99c",
   "metadata": {},
   "outputs": [
    {
     "name": "stdout",
     "output_type": "stream",
     "text": [
      "34\n",
      "34 / 5 = 6 (остаток 4)\n"
     ]
    }
   ],
   "source": [
    "a = int(input())\n",
    "b = 5\n",
    "\n",
    "if a == 25:\n",
    "    print(a, \"/\", b, \"=\", 5)\n",
    "elif a % b == 0:\n",
    "    print(a, \"/\", b, \"=\", int(a / b))\n",
    "else:\n",
    "    print(a, \"/\", b, \"=\", a // b, \"(остаток \" + str(a % b) + \")\")"
   ]
  },
  {
   "cell_type": "markdown",
   "id": "1faecfdb",
   "metadata": {},
   "source": [
    "Эти функции позволяют нам в зависимости от условий выполнять то или иное действие. Однако порою нам нужно сравнивать переменные с условием множество раз и писать программу в тысячи строк прописывая каждое возможное значение переменной довольно утомительно, поэтому специально для таких случаев есть функция while. Например, напишем простенькую программку возведения двойки в степень:"
   ]
  },
  {
   "cell_type": "code",
   "execution_count": 29,
   "id": "3fc7a1d7",
   "metadata": {},
   "outputs": [
    {
     "name": "stdout",
     "output_type": "stream",
     "text": [
      "10\n",
      "1024\n"
     ]
    }
   ],
   "source": [
    "number = 2\n",
    "deg = int(input())\n",
    "cur_deg = 1\n",
    "\n",
    "while cur_deg < deg:\n",
    "    number = number * 2\n",
    "    cur_deg = cur_deg + 1\n",
    "print(number)"
   ]
  },
  {
   "cell_type": "markdown",
   "id": "89d076c5",
   "metadata": {},
   "source": [
    "Это очень удобная функция, правда для циклов есть и еще одна. Это функция for... in. Она используется обычно, когда нам четко известно сколько раз должен выполниться алгоритм. Напишем ту же программу возведения в степень с помощью новой функции:"
   ]
  },
  {
   "cell_type": "code",
   "execution_count": 31,
   "id": "678fdab4",
   "metadata": {},
   "outputs": [
    {
     "name": "stdout",
     "output_type": "stream",
     "text": [
      "12\n",
      "4096\n"
     ]
    }
   ],
   "source": [
    "number = 2\n",
    "deg = int(input())\n",
    "\n",
    "for i in range(1, deg): #i принимает поочередно принимает все значения от 1 до deg не включительно\n",
    "    number = number * 2\n",
    "print(number)"
   ]
  },
  {
   "cell_type": "markdown",
   "id": "6aa2828b",
   "metadata": {},
   "source": [
    "Кроме того, если нам нужно изменять i не на единицу, то мы можем добавить шаг в range. Например, выведем все четные числа от 0 до 50. Для этого не обязательно проверять деление на 2, просто сделаем шаг 2 и, тем самым, будем пропускать нечетные числа:"
   ]
  },
  {
   "cell_type": "code",
   "execution_count": 3,
   "id": "6cfbe004",
   "metadata": {},
   "outputs": [
    {
     "name": "stdout",
     "output_type": "stream",
     "text": [
      "0\n",
      "2\n",
      "4\n",
      "6\n",
      "8\n",
      "10\n",
      "12\n",
      "14\n",
      "16\n",
      "18\n",
      "20\n",
      "22\n",
      "24\n",
      "26\n",
      "28\n",
      "30\n",
      "32\n",
      "34\n",
      "36\n",
      "38\n",
      "40\n",
      "42\n",
      "44\n",
      "46\n",
      "48\n",
      "50\n"
     ]
    }
   ],
   "source": [
    "for i in range(0, 51, 2):\n",
    "    print(i)"
   ]
  },
  {
   "cell_type": "markdown",
   "id": "875b1f43",
   "metadata": {},
   "source": [
    "Во время выполнения цикла бывают случаи, когда нужно срочно прекратить его выполнение либо пропустить какую-то часть. Для этого есть специальные функции break и continue:"
   ]
  },
  {
   "cell_type": "code",
   "execution_count": 32,
   "id": "8cc6e725",
   "metadata": {},
   "outputs": [
    {
     "name": "stdout",
     "output_type": "stream",
     "text": [
      "110 20\n"
     ]
    }
   ],
   "source": [
    "sum_even = 0\n",
    "for i in range(1, 100):\n",
    "    if i % 2 == 0:\n",
    "        sum_even = sum_even + i\n",
    "        \n",
    "        if a >= 100:\n",
    "            print(sum_even, i)\n",
    "            break\n",
    "    else:\n",
    "        continue  "
   ]
  },
  {
   "cell_type": "markdown",
   "id": "f881e2b2",
   "metadata": {},
   "source": [
    "### Работа со строками"
   ]
  },
  {
   "cell_type": "markdown",
   "id": "29c1a4b5",
   "metadata": {},
   "source": [
    "Теперь применим наши знания на практике и поработаем со строками. Для этого сначала узнаем, как с помощью функции len() узнать длину строки:"
   ]
  },
  {
   "cell_type": "code",
   "execution_count": 33,
   "id": "846f838f",
   "metadata": {},
   "outputs": [
    {
     "name": "stdout",
     "output_type": "stream",
     "text": [
      "13\n"
     ]
    }
   ],
   "source": [
    "print(len('Hello, world!'))"
   ]
  },
  {
   "cell_type": "markdown",
   "id": "ebc1e236",
   "metadata": {},
   "source": [
    "Итак, теперь, когда мы знаем, как пользоваться циклами, попробуем вывести поочередно на экран все буквы нашей любимой фразы через абзацы:"
   ]
  },
  {
   "cell_type": "code",
   "execution_count": 36,
   "id": "b4eaa651",
   "metadata": {},
   "outputs": [
    {
     "name": "stdout",
     "output_type": "stream",
     "text": [
      "H\n",
      "e\n",
      "l\n",
      "l\n",
      "o\n",
      ",\n",
      " \n",
      "w\n",
      "o\n",
      "r\n",
      "l\n",
      "d\n",
      "!\n"
     ]
    }
   ],
   "source": [
    "a = 'Hello, world!'\n",
    "for letter in a:\n",
    "    print(letter)"
   ]
  },
  {
   "cell_type": "markdown",
   "id": "6e237ac1",
   "metadata": {},
   "source": [
    "Переменная типа string - строка. Она по сути представляет собой массив из букв, где каждая буква имеет свой индекс. Инексация начинается с 0. Кроме того, можно использовать и отрицательные индексы, которые ведут отсчет с конца."
   ]
  },
  {
   "cell_type": "code",
   "execution_count": 35,
   "id": "4df134d0",
   "metadata": {},
   "outputs": [
    {
     "name": "stdout",
     "output_type": "stream",
     "text": [
      "roll\n"
     ]
    }
   ],
   "source": [
    "print(a[-4] + a[4] + a[3] + a[-3])"
   ]
  },
  {
   "cell_type": "markdown",
   "id": "ac34f6b9",
   "metadata": {},
   "source": [
    "Также можно вычленять из строки сразу несколько букв с помощью символа :"
   ]
  },
  {
   "cell_type": "code",
   "execution_count": 36,
   "id": "47754c2f",
   "metadata": {},
   "outputs": [
    {
     "name": "stdout",
     "output_type": "stream",
     "text": [
      "Hello!\n"
     ]
    }
   ],
   "source": [
    "print(a[0:5] + a[-1]) #от a[0] до a[5] не включительно"
   ]
  },
  {
   "cell_type": "markdown",
   "id": "f89e4a4a",
   "metadata": {},
   "source": [
    "И даже вычленять буквы с определенным шагом:"
   ]
  },
  {
   "cell_type": "code",
   "execution_count": 37,
   "id": "0e9e7496",
   "metadata": {},
   "outputs": [
    {
     "name": "stdout",
     "output_type": "stream",
     "text": [
      "Hoo\n"
     ]
    }
   ],
   "source": [
    "print(a[0:9:4]) #от a[0] до a[9] не включительно с шагом 4"
   ]
  },
  {
   "cell_type": "markdown",
   "id": "14b1ea81",
   "metadata": {},
   "source": [
    "Эту операцию можно выполнять и с конца строки. Отрицательные значения шага меняют направление движения."
   ]
  },
  {
   "cell_type": "code",
   "execution_count": 39,
   "id": "73576eda",
   "metadata": {},
   "outputs": [
    {
     "name": "stdout",
     "output_type": "stream",
     "text": [
      "ooH\n",
      "!dlrow ,olleH\n"
     ]
    }
   ],
   "source": [
    "print(a[8::-4]) #от a[8] до начала (перед первым символом) с шагом 4\n",
    "print(a[::-1]) #от конца (после последнего символа) до начала с шагом 1"
   ]
  },
  {
   "cell_type": "markdown",
   "id": "50990b3b",
   "metadata": {},
   "source": [
    "Можно также проверить, есть ли определенный символ в строке:"
   ]
  },
  {
   "cell_type": "code",
   "execution_count": 40,
   "id": "8a120748",
   "metadata": {},
   "outputs": [
    {
     "name": "stdout",
     "output_type": "stream",
     "text": [
      "Hello, my friend)\n",
      "YES\n"
     ]
    }
   ],
   "source": [
    "a = input()\n",
    "if ' ' in a:\n",
    "    print(\"YES\")\n",
    "else:\n",
    "    print(\"NO\")"
   ]
  },
  {
   "cell_type": "markdown",
   "id": "2a15aaea",
   "metadata": {},
   "source": [
    "А с помощью новой функции count() можно посчитать, сколько раз данная последовательность символов встречается в строке:"
   ]
  },
  {
   "cell_type": "code",
   "execution_count": 41,
   "id": "25ee8fef",
   "metadata": {},
   "outputs": [
    {
     "name": "stdout",
     "output_type": "stream",
     "text": [
      "Hello! I`m glad to see you)\n",
      "5\n"
     ]
    }
   ],
   "source": [
    "a = input()\n",
    "print(a.count(' '))"
   ]
  },
  {
   "cell_type": "markdown",
   "id": "894924d3",
   "metadata": {},
   "source": [
    "Если же нам нужно не посчитать, а найти некоторый символ (подстроку), то можно воспользоваться функцией find(), которая вернет индекс найденного элемента или индекс конца (-1), если элемент не найден."
   ]
  },
  {
   "cell_type": "code",
   "execution_count": 23,
   "id": "8ac58e8e",
   "metadata": {},
   "outputs": [
    {
     "name": "stdout",
     "output_type": "stream",
     "text": [
      "Введите адрес в формате: \"Aдрес ...\":\n",
      "Адрес Береговая 8\n",
      "Береговая 8\n"
     ]
    }
   ],
   "source": [
    "a = input(\"Введите адрес в формате: \\\"Aдрес ...\\\":\\n\")\n",
    "\n",
    "if a.find(' ') != -1:\n",
    "    print(a[a.find(' ')+1:])\n",
    "else:\n",
    "    print(\"Некорректный ввод адреса\")"
   ]
  },
  {
   "cell_type": "markdown",
   "id": "b06ce067",
   "metadata": {},
   "source": [
    "Часто бывает, что пользователь вводит данные не в том регистре, какой нам нужен. Например, пишет имя с маленькой буквы. Для исправления таких казусов существуют функции lower(), upper() и title()."
   ]
  },
  {
   "cell_type": "code",
   "execution_count": 40,
   "id": "0a76b8a9",
   "metadata": {},
   "outputs": [
    {
     "name": "stdout",
     "output_type": "stream",
     "text": [
      "             Однажды В Далеком Неизведанном Мире \n",
      "\n",
      "     - ВНИМАНИЕ! НАШ КОРАБЛЬ БЫЛ АТАКОВАН!\n",
      "\\(основной сюжет)\\\n",
      "\n",
      "...помнишь..ты говорил, что знаешь путь...теперь у нас одна дорога...\n",
      "\\(продолжение истории)\\\n"
     ]
    }
   ],
   "source": [
    "title = \"однажды в далеКом неиЗВеданном мире\"\n",
    "main_row = \"- вниМАНие! наш корабль был атакован!\"\n",
    "current_row = \"...ПОМНИШЬ..ТЫ ГОВОРИЛ, ЧТО ЗНАЕШЬ ПУТЬ...ТЕПЕРЬ у нас ОДна ДороГа...\"\n",
    "\n",
    "print(\"            \", title.title(), \"\\n\")\n",
    "print(\"    \", main_row.upper())\n",
    "print(\"\\\\(основной сюжет)\\\\\\n\\n\" + current_row.lower() + \"\\n\\\\(продолжение истории)\\\\\")"
   ]
  },
  {
   "cell_type": "markdown",
   "id": "670be6a6",
   "metadata": {},
   "source": [
    "Если углубляться дальше, то пользователь вообще часто делает ошибки. Например, вводит вместо неправильный разделитель в дробном числе. Тогда мы легко можем исправить ситуацию с помощью функции replace()."
   ]
  },
  {
   "cell_type": "code",
   "execution_count": 44,
   "id": "5dd735ff",
   "metadata": {},
   "outputs": [
    {
     "name": "stdout",
     "output_type": "stream",
     "text": [
      "3.14\n"
     ]
    }
   ],
   "source": [
    "pi = \"3,14\"\n",
    "#print(float(pi)) - выдаст ошибку, так как нужен разделитель '.'\n",
    "\n",
    "print(float(pi.replace(',', '.')))"
   ]
  },
  {
   "cell_type": "markdown",
   "id": "a7b2236d",
   "metadata": {},
   "source": [
    "### Практика"
   ]
  },
  {
   "cell_type": "markdown",
   "id": "e6d714b6",
   "metadata": {},
   "source": [
    "#### 1.\n",
    "Пусть есть переменная count = 1, будем менять ее четность на каждом шагу цикла, добавляя 3. Закончим цикл, если count >= 100. Выясним, какой переменная будет после конца цикла."
   ]
  },
  {
   "cell_type": "code",
   "execution_count": 42,
   "id": "900c1a16",
   "metadata": {},
   "outputs": [
    {
     "name": "stdout",
     "output_type": "stream",
     "text": [
      "Нечетная\n"
     ]
    }
   ],
   "source": [
    "count = 1\n",
    "while count < 100:\n",
    "    if count % 2 == 0:\n",
    "        to_print = \"Четная\"\n",
    "    else:\n",
    "        to_print = \"Нечетная\"\n",
    "    count += 3\n",
    "print(to_print)"
   ]
  },
  {
   "cell_type": "markdown",
   "id": "c87aabc2",
   "metadata": {},
   "source": [
    "#### 2.\n",
    "\n",
    "Вычислим значение логического выражения."
   ]
  },
  {
   "cell_type": "code",
   "execution_count": 43,
   "id": "65a63828",
   "metadata": {},
   "outputs": [
    {
     "name": "stdout",
     "output_type": "stream",
     "text": [
      "True\n"
     ]
    }
   ],
   "source": [
    "print(((1<3)and(4<5))or(1+7+8>9))"
   ]
  },
  {
   "cell_type": "markdown",
   "id": "99d361d6",
   "metadata": {},
   "source": [
    "#### 3.\n",
    "\n",
    "Рома собирает робота с искусственным интеллектом. Он может себе это позволить, если у него есть (balance) больше 3 тысяч рублей. Тогда он пойдёт в магазин и купит 4 мотора. Если же денег не хватает, но набирается 1.5 тысячи рублей и больше, он может купить 4 мотора, но более слабых. В ином случае с роботом придётся повременить. Программа принимает на вход количество денег в рублях и говорит, может ли Рома собрать робота. Варианты ответа программы: \"Ты сделаешь сильного робота!\", \"Ты сделаешь слабого робота!\" и \"Придётся покопить!\"."
   ]
  },
  {
   "cell_type": "code",
   "execution_count": 32,
   "id": "61f58f1f",
   "metadata": {},
   "outputs": [
    {
     "name": "stdout",
     "output_type": "stream",
     "text": [
      "1550\n",
      "Ты сделаешь слабого робота!\n"
     ]
    }
   ],
   "source": [
    "balance = int(input())\n",
    "if balance > 3000:\n",
    "    print(\"Ты сделаешь сильного робота!\")\n",
    "elif balance >= 1500:\n",
    "    print(\"Ты сделаешь слабого робота!\")\n",
    "else:\n",
    "    print(\"Придётся покопить!\")"
   ]
  },
  {
   "cell_type": "markdown",
   "id": "d803892f",
   "metadata": {},
   "source": [
    "#### 4.\n",
    "\n",
    "Написать программу, которая бы выводила в строку через ', ' кубы всех чисел от 0 до 30.\n"
   ]
  },
  {
   "cell_type": "code",
   "execution_count": 54,
   "id": "75df48e2",
   "metadata": {},
   "outputs": [
    {
     "name": "stdout",
     "output_type": "stream",
     "text": [
      "0, 1, 8, 27, 64, 125, 216, 343, 512, 729, 1000, 1331, 1728, 2197, 2744, 3375, 4096, 4913, 5832, 6859, 8000, 9261, 10648, 12167, 13824, 15625, 17576, 19683, 21952, 24389, 27000\n"
     ]
    }
   ],
   "source": [
    "cubes = []\n",
    "for i in range(30):\n",
    "    cubes.append(i**3)\n",
    "\n",
    "print( *cubes, sep = \", \") # '*' - позволяет убрать скобки при вывод массива, а sep - меняет разделитель между элементами"
   ]
  },
  {
   "cell_type": "markdown",
   "id": "4ce1eb98",
   "metadata": {},
   "source": [
    "#### 5.\n",
    "\n",
    "Написать программу, которая выявляет високосные года. Пусть она принимает на вход год, а на выход выводит информацию: \"... год високосный\" или \"... год невисокосный\", где вместо многоточия указывается номер года."
   ]
  },
  {
   "cell_type": "code",
   "execution_count": 61,
   "id": "68bed212",
   "metadata": {},
   "outputs": [
    {
     "name": "stdout",
     "output_type": "stream",
     "text": [
      "1200\n",
      "1200 год високосный\n"
     ]
    }
   ],
   "source": [
    "year = int(input())\n",
    "if (year%4 == 0 and year % 100 !=0) or (year % 400 == 0):\n",
    "    print(year, \"год високосный\")\n",
    "else:\n",
    "    print(year, \"год невисокосный\")"
   ]
  },
  {
   "cell_type": "markdown",
   "id": "282139d8",
   "metadata": {},
   "source": [
    "#### 6.\n",
    "\n",
    "Написать программу, которая принимает на вход слово и последовательно выводит все гласные из него с учетом регистра."
   ]
  },
  {
   "cell_type": "code",
   "execution_count": 67,
   "id": "f5cc5430",
   "metadata": {},
   "outputs": [
    {
     "name": "stdout",
     "output_type": "stream",
     "text": [
      "ааааа\n",
      "['а', 'о', 'е', 'и', 'ё', 'у', 'ю', 'э', 'я', 'ы', 'А', 'О', 'Е', 'Ё', 'И', 'У', 'Ю', 'Э', 'Ы']\n",
      "а\n",
      "а\n",
      "а\n",
      "а\n",
      "а\n"
     ]
    }
   ],
   "source": [
    "vowel = \"а, о, е, и, ё, у, ю, э, я, ы, А, О, Е, Ё, И, У, Ю, Э, Ы\".split(', ')\n",
    "word = input()\n",
    "\n",
    "for i in word:\n",
    "    if i in vowel:\n",
    "        print(i)"
   ]
  },
  {
   "cell_type": "markdown",
   "id": "7dac1786",
   "metadata": {},
   "source": [
    "#### 7.\n",
    "\n",
    "Раньше компьютерные игры были гораздо проще, чем сейчас. Например, боссы и враги раньше были запрограммированы строго: они наносили конкретную единицу урона и били раз в строго отведённое время. \n",
    "\n",
    "Напишем программу по типу таких игр. Пусть есть 3 разных типа врагов: киборг, робот-приспешник и инопланетный захватчик. У них следующие показатели:\n",
    "\n",
    "Киборг: 5 урона, бьёт раз в 2 секунды.\n",
    "Робот-приспешник: 7 урона, бьёт раз в 1 секунду.\n",
    "Инопланетный захватчик: 14 урона, бьёт раз в 0.5 секунд.\n",
    "\n",
    "А у главного героя - 100 единиц здоровья. \n",
    "\n",
    "Написать программу, которая бы показывала через сколько секунд умрёт главный герой при встрече с тем или иным боссом, если будет бездействовать."
   ]
  },
  {
   "cell_type": "code",
   "execution_count": 78,
   "id": "3fb5c234",
   "metadata": {
    "scrolled": true
   },
   "outputs": [
    {
     "name": "stdout",
     "output_type": "stream",
     "text": [
      "Робот-приспешник\n",
      "15\n"
     ]
    }
   ],
   "source": [
    "damage = {\"Киборг\": 2.5, \"Робот-приспешник\": 7, \"Инопланетный захватчик\": 28}\n",
    "hero = 100\n",
    "boss = input()\n",
    "\n",
    "time = 0\n",
    "while hero>0:\n",
    "    hero -= damage[boss]\n",
    "    time += 1\n",
    "print(time)"
   ]
  },
  {
   "cell_type": "markdown",
   "id": "cbaa2c3f",
   "metadata": {},
   "source": [
    "#### 8.\n",
    "\n",
    "Наверное, каждый в своей жизни задумывался о своем языке для коммуникации, шифр, который известен только ограниченному кругу лиц. Попробуем это сделать и напишем программу, которая \"зашифровывает\" текст, меняя местами символы, стоящие на нечётных и чётных позициях. При этом все буквы кроме первой после шифровки должны быть в нижнем регистре, а первая в верхнем.\n",
    "\n",
    "Например, если мы возьмём фразу: 'Программисты - это устройства, преобразующие кофеин в код.',\n",
    "то после шифровки начало фразы должно выглядеть так: 'Рпгоарммсиыт'.\n",
    "\n",
    "При этом все остальные символы кроме букв сохраняются и, если вдруг слово содержит нечётное количество букв, то последняя буква остается без изменений."
   ]
  },
  {
   "cell_type": "code",
   "execution_count": 90,
   "id": "43646986",
   "metadata": {},
   "outputs": [
    {
     "name": "stdout",
     "output_type": "stream",
     "text": [
      "Дружба - это чудо!\n",
      "Рджуаб - тэо учод!\n"
     ]
    }
   ],
   "source": [
    "string = input().lower()\n",
    "new_string = \"\"\n",
    "\n",
    "i = 0\n",
    "while i<len(string) - 1:\n",
    "    if string[i].isalpha() and string[i+1].isalpha(): #isalpha() - проверяет, если символ буква, то вернет True, иначе - False\n",
    "        new_string += string[i+1] + string[i]\n",
    "        i += 2\n",
    "    else:\n",
    "        new_string += string[i]\n",
    "        i += 1\n",
    "new_string += string[-1]\n",
    "print(new_string.capitalize()) #capitalize() - первую букву строки делает в верхнем регистре, остальные - в нижнем"
   ]
  }
 ],
 "metadata": {
  "kernelspec": {
   "display_name": "Python 3",
   "language": "python",
   "name": "python3"
  },
  "language_info": {
   "codemirror_mode": {
    "name": "ipython",
    "version": 3
   },
   "file_extension": ".py",
   "mimetype": "text/x-python",
   "name": "python",
   "nbconvert_exporter": "python",
   "pygments_lexer": "ipython3",
   "version": "3.8.8"
  }
 },
 "nbformat": 4,
 "nbformat_minor": 5
}
